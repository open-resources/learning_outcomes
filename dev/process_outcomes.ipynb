{
 "cells": [
  {
   "attachments": {},
   "cell_type": "markdown",
   "metadata": {},
   "source": [
    "# Jupyter notebook to troubleshoot scripts/process_outcomes.py"
   ]
  },
  {
   "cell_type": "code",
   "execution_count": 23,
   "metadata": {},
   "outputs": [],
   "source": [
    "import yaml\n",
    "import pathlib\n",
    "import pandas as pd"
   ]
  },
  {
   "cell_type": "code",
   "execution_count": 53,
   "metadata": {},
   "outputs": [],
   "source": [
    "files = list(pathlib.Path('../').glob('*.yml'))"
   ]
  },
  {
   "cell_type": "code",
   "execution_count": 54,
   "metadata": {},
   "outputs": [],
   "source": [
    "mdtext = files[0].read_text()"
   ]
  },
  {
   "cell_type": "code",
   "execution_count": 11,
   "metadata": {},
   "outputs": [],
   "source": [
    "# Deal with YAML header\n",
    "outcomes = yaml.safe_load(mdtext)"
   ]
  },
  {
   "cell_type": "code",
   "execution_count": 4,
   "metadata": {},
   "outputs": [],
   "source": [
    "topic_counter = 1\n",
    "rows = []\n",
    "\n",
    "for k1,v1 in outcomes.items():\n",
    "    \n",
    "    subtopic_counter = 1\n",
    "    subsubtopic_counter = 1\n",
    "    \n",
    "    for k2,v2 in v1.items():\n",
    "        subsubtopic_counter = 1\n",
    "        try:\n",
    "            for k3,v3 in v2.items():\n",
    "                for i,lo in enumerate(v3):\n",
    "                    rows.append([k1,k2,k3,lo,'{0}.{1}.{2}.{3}'.format(topic_counter,subtopic_counter,subsubtopic_counter,i)])\n",
    "                    #print(k1+','+k2+',',k3,',',v,',','{0}.{1}.{2}.{3}'.format(topic_counter,subtopic_counter,subsubtopic_counter,i))\n",
    "                subsubtopic_counter += 1\n",
    "        except AttributeError:\n",
    "            for i,lo in enumerate(v2):\n",
    "                rows.append([k1,k2,'',lo,'{0}.{1}.{2}.{3}'.format(topic_counter,subtopic_counter,subsubtopic_counter,i)])\n",
    "                #print(k1+','+k2+',','',',',v,',','{0}.{1}.{2}.{3}'.format(topic_counter,subtopic_counter,subsubtopic_counter,i))\n",
    "        subtopic_counter += 1\n",
    "    topic_counter += 1\n"
   ]
  },
  {
   "cell_type": "code",
   "execution_count": 5,
   "metadata": {},
   "outputs": [],
   "source": [
    "#pd.DataFrame.from_records(rows,columns=['Topic','Subtopic','Subsubtopic','Learning Outcome','Code']).to_csv('output_csv/physics.csv',index=None)"
   ]
  }
 ],
 "metadata": {
  "kernelspec": {
   "display_name": "Python 3",
   "language": "python",
   "name": "python3"
  },
  "language_info": {
   "codemirror_mode": {
    "name": "ipython",
    "version": 3
   },
   "file_extension": ".py",
   "mimetype": "text/x-python",
   "name": "python",
   "nbconvert_exporter": "python",
   "pygments_lexer": "ipython3",
   "version": "3.10.2"
  }
 },
 "nbformat": 4,
 "nbformat_minor": 4
}
